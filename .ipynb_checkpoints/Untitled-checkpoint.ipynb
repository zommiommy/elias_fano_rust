{
 "cells": [
  {
   "cell_type": "code",
   "execution_count": 4,
   "id": "ad7ca13d",
   "metadata": {},
   "outputs": [],
   "source": [
    "import pandas as pd\n",
    "import matplotlib.pyplot as plt"
   ]
  },
  {
   "cell_type": "code",
   "execution_count": 3,
   "id": "0aed5b03",
   "metadata": {},
   "outputs": [
    {
     "data": {
      "text/html": [
       "<div>\n",
       "<style scoped>\n",
       "    .dataframe tbody tr th:only-of-type {\n",
       "        vertical-align: middle;\n",
       "    }\n",
       "\n",
       "    .dataframe tbody tr th {\n",
       "        vertical-align: top;\n",
       "    }\n",
       "\n",
       "    .dataframe thead th {\n",
       "        text-align: right;\n",
       "    }\n",
       "</style>\n",
       "<table border=\"1\" class=\"dataframe\">\n",
       "  <thead>\n",
       "    <tr style=\"text-align: right;\">\n",
       "      <th></th>\n",
       "      <th>ef_rank</th>\n",
       "      <th>ef_select</th>\n",
       "      <th>ss_rank</th>\n",
       "      <th>ss_select</th>\n",
       "      <th>memory_Mib</th>\n",
       "    </tr>\n",
       "    <tr>\n",
       "      <th>k</th>\n",
       "      <th></th>\n",
       "      <th></th>\n",
       "      <th></th>\n",
       "      <th></th>\n",
       "      <th></th>\n",
       "    </tr>\n",
       "  </thead>\n",
       "  <tbody>\n",
       "    <tr>\n",
       "      <th>6</th>\n",
       "      <td>39.146</td>\n",
       "      <td>119.427</td>\n",
       "      <td>110.298</td>\n",
       "      <td>68.598</td>\n",
       "      <td>500.1407</td>\n",
       "    </tr>\n",
       "    <tr>\n",
       "      <th>7</th>\n",
       "      <td>42.100</td>\n",
       "      <td>109.253</td>\n",
       "      <td>99.386</td>\n",
       "      <td>62.461</td>\n",
       "      <td>378.0704</td>\n",
       "    </tr>\n",
       "    <tr>\n",
       "      <th>8</th>\n",
       "      <td>43.561</td>\n",
       "      <td>107.370</td>\n",
       "      <td>96.199</td>\n",
       "      <td>60.687</td>\n",
       "      <td>317.0352</td>\n",
       "    </tr>\n",
       "    <tr>\n",
       "      <th>9</th>\n",
       "      <td>46.052</td>\n",
       "      <td>108.068</td>\n",
       "      <td>96.129</td>\n",
       "      <td>64.768</td>\n",
       "      <td>286.5176</td>\n",
       "    </tr>\n",
       "    <tr>\n",
       "      <th>10</th>\n",
       "      <td>49.762</td>\n",
       "      <td>117.774</td>\n",
       "      <td>100.609</td>\n",
       "      <td>68.931</td>\n",
       "      <td>271.2589</td>\n",
       "    </tr>\n",
       "    <tr>\n",
       "      <th>11</th>\n",
       "      <td>56.278</td>\n",
       "      <td>130.712</td>\n",
       "      <td>113.500</td>\n",
       "      <td>85.264</td>\n",
       "      <td>263.6294</td>\n",
       "    </tr>\n",
       "    <tr>\n",
       "      <th>12</th>\n",
       "      <td>75.804</td>\n",
       "      <td>156.731</td>\n",
       "      <td>141.249</td>\n",
       "      <td>114.599</td>\n",
       "      <td>259.8145</td>\n",
       "    </tr>\n",
       "    <tr>\n",
       "      <th>13</th>\n",
       "      <td>99.828</td>\n",
       "      <td>197.572</td>\n",
       "      <td>203.230</td>\n",
       "      <td>177.869</td>\n",
       "      <td>257.9073</td>\n",
       "    </tr>\n",
       "    <tr>\n",
       "      <th>14</th>\n",
       "      <td>99.919</td>\n",
       "      <td>283.507</td>\n",
       "      <td>327.555</td>\n",
       "      <td>300.258</td>\n",
       "      <td>256.9537</td>\n",
       "    </tr>\n",
       "    <tr>\n",
       "      <th>15</th>\n",
       "      <td>99.891</td>\n",
       "      <td>447.729</td>\n",
       "      <td>585.683</td>\n",
       "      <td>552.654</td>\n",
       "      <td>256.4766</td>\n",
       "    </tr>\n",
       "    <tr>\n",
       "      <th>16</th>\n",
       "      <td>100.201</td>\n",
       "      <td>787.111</td>\n",
       "      <td>1115.095</td>\n",
       "      <td>1050.469</td>\n",
       "      <td>256.2384</td>\n",
       "    </tr>\n",
       "  </tbody>\n",
       "</table>\n",
       "</div>"
      ],
      "text/plain": [
       "    ef_rank  ef_select   ss_rank  ss_select  memory_Mib\n",
       "k                                                      \n",
       "6    39.146    119.427   110.298     68.598    500.1407\n",
       "7    42.100    109.253    99.386     62.461    378.0704\n",
       "8    43.561    107.370    96.199     60.687    317.0352\n",
       "9    46.052    108.068    96.129     64.768    286.5176\n",
       "10   49.762    117.774   100.609     68.931    271.2589\n",
       "11   56.278    130.712   113.500     85.264    263.6294\n",
       "12   75.804    156.731   141.249    114.599    259.8145\n",
       "13   99.828    197.572   203.230    177.869    257.9073\n",
       "14   99.919    283.507   327.555    300.258    256.9537\n",
       "15   99.891    447.729   585.683    552.654    256.4766\n",
       "16  100.201    787.111  1115.095   1050.469    256.2384"
      ]
     },
     "execution_count": 3,
     "metadata": {},
     "output_type": "execute_result"
    }
   ],
   "source": [
    "df = pd.read_csv(\"SimpleSelect_benches.csv\", index_col=0)\n",
    "df"
   ]
  },
  {
   "cell_type": "code",
   "execution_count": 15,
   "id": "94df1bf3",
   "metadata": {},
   "outputs": [
    {
     "ename": "TypeError",
     "evalue": "'NoneType' object is not callable",
     "output_type": "error",
     "traceback": [
      "\u001b[0;31m---------------------------------------------------------------------------\u001b[0m",
      "\u001b[0;31mTypeError\u001b[0m                                 Traceback (most recent call last)",
      "\u001b[0;32m<ipython-input-15-e9c0a951d8d3>\u001b[0m in \u001b[0;36m<module>\u001b[0;34m\u001b[0m\n\u001b[1;32m      1\u001b[0m \u001b[0mf\u001b[0m\u001b[0;34m,\u001b[0m \u001b[0maxes\u001b[0m \u001b[0;34m=\u001b[0m \u001b[0mplt\u001b[0m\u001b[0;34m.\u001b[0m\u001b[0msubplots\u001b[0m\u001b[0;34m(\u001b[0m\u001b[0;36m2\u001b[0m\u001b[0;34m,\u001b[0m \u001b[0;36m3\u001b[0m\u001b[0;34m,\u001b[0m \u001b[0mdpi\u001b[0m\u001b[0;34m=\u001b[0m\u001b[0;36m150\u001b[0m\u001b[0;34m)\u001b[0m\u001b[0;34m\u001b[0m\u001b[0;34m\u001b[0m\u001b[0m\n\u001b[0;32m----> 2\u001b[0;31m \u001b[0mf\u001b[0m\u001b[0;34m.\u001b[0m\u001b[0mfigure\u001b[0m\u001b[0;34m(\u001b[0m\u001b[0mfigsize\u001b[0m\u001b[0;34m=\u001b[0m\u001b[0;34m(\u001b[0m\u001b[0;36m10\u001b[0m\u001b[0;34m,\u001b[0m \u001b[0;36m6\u001b[0m\u001b[0;34m)\u001b[0m\u001b[0;34m)\u001b[0m\u001b[0;34m\u001b[0m\u001b[0;34m\u001b[0m\u001b[0m\n\u001b[0m\u001b[1;32m      3\u001b[0m \u001b[0maxes\u001b[0m\u001b[0;34m[\u001b[0m\u001b[0;36m0\u001b[0m\u001b[0;34m,\u001b[0m \u001b[0;36m0\u001b[0m\u001b[0;34m]\u001b[0m\u001b[0;34m.\u001b[0m\u001b[0mplot\u001b[0m\u001b[0;34m(\u001b[0m\u001b[0mdf\u001b[0m\u001b[0;34m.\u001b[0m\u001b[0mindex\u001b[0m\u001b[0;34m,\u001b[0m \u001b[0mdf\u001b[0m\u001b[0;34m.\u001b[0m\u001b[0mmemory_Mib\u001b[0m\u001b[0;34m)\u001b[0m\u001b[0;34m\u001b[0m\u001b[0;34m\u001b[0m\u001b[0m\n\u001b[1;32m      4\u001b[0m \u001b[0maxes\u001b[0m\u001b[0;34m[\u001b[0m\u001b[0;36m0\u001b[0m\u001b[0;34m,\u001b[0m \u001b[0;36m0\u001b[0m\u001b[0;34m]\u001b[0m\u001b[0;34m.\u001b[0m\u001b[0mset_title\u001b[0m\u001b[0;34m(\u001b[0m\u001b[0;34m\"Memory for SimpleSelect (Mib)\"\u001b[0m\u001b[0;34m)\u001b[0m\u001b[0;34m\u001b[0m\u001b[0;34m\u001b[0m\u001b[0m\n\u001b[1;32m      5\u001b[0m \u001b[0maxes\u001b[0m\u001b[0;34m[\u001b[0m\u001b[0;36m0\u001b[0m\u001b[0;34m,\u001b[0m \u001b[0;36m1\u001b[0m\u001b[0;34m]\u001b[0m\u001b[0;34m.\u001b[0m\u001b[0mplot\u001b[0m\u001b[0;34m(\u001b[0m\u001b[0mdf\u001b[0m\u001b[0;34m.\u001b[0m\u001b[0mindex\u001b[0m\u001b[0;34m,\u001b[0m \u001b[0mdf\u001b[0m\u001b[0;34m.\u001b[0m\u001b[0mss_rank\u001b[0m\u001b[0;34m)\u001b[0m\u001b[0;34m\u001b[0m\u001b[0;34m\u001b[0m\u001b[0m\n",
      "\u001b[0;31mTypeError\u001b[0m: 'NoneType' object is not callable"
     ]
    },
    {
     "data": {
      "image/png": "[encoded data removed]",
      "text/plain": [
       "<Figure size 900x600 with 6 Axes>"
      ]
     },
     "metadata": {
      "needs_background": "light"
     },
     "output_type": "display_data"
    }
   ],
   "source": [
    "f, axes = plt.subplots(2, 3, dpi=150)\n",
    "axes[0, 0].plot(df.index, df.memory_Mib)\n",
    "axes[0, 0].set_title(\"Memory for SimpleSelect (Mib)\")\n",
    "axes[0, 1].plot(df.index, df.ss_rank)\n",
    "axes[0, 1].set_title(\"SimpleSelect rank (ns)\")\n",
    "axes[0, 2].plot(df.index, df.ss_select)\n",
    "axes[0, 1].set_title(\"SimpleSelect select (ns)\")\n",
    "axes[1, 0].plot(df.index, df.ef_rank)\n",
    "axes[1, 0].set_title(\"EliasFano rank (ns)\")\n",
    "axes[1, 1].plot(df.index, df.ef_select)\n",
    "axes[1, 1].set_title(\"EliasFano select (ns)\")\n",
    "plt.show()"
   ]
  },
  {
   "cell_type": "code",
   "execution_count": null,
   "id": "bdb42586",
   "metadata": {},
   "outputs": [],
   "source": []
  }
 ],
 "metadata": {
  "kernelspec": {
   "display_name": "Python 3",
   "language": "python",
   "name": "python3"
  },
  "language_info": {
   "codemirror_mode": {
    "name": "ipython",
    "version": 3
   },
   "file_extension": ".py",
   "mimetype": "text/x-python",
   "name": "python",
   "nbconvert_exporter": "python",
   "pygments_lexer": "ipython3",
   "version": "3.8.8"
  }
 },
 "nbformat": 4,
 "nbformat_minor": 5
}
